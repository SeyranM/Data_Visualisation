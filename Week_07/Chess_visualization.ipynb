{
 "cells": [
  {
   "cell_type": "code",
   "execution_count": 1,
   "metadata": {},
   "outputs": [],
   "source": [
    "import numpy as np\n",
    "import pandas as pd\n",
    "import matplotlib.pyplot as plt\n",
    "import seaborn as sns\n",
    "import datetime"
   ]
  },
  {
   "cell_type": "code",
   "execution_count": 2,
   "metadata": {},
   "outputs": [],
   "source": [
    "df = pd.read_csv(\"games.csv\", index_col='id')"
   ]
  },
  {
   "cell_type": "code",
   "execution_count": 3,
   "metadata": {
    "scrolled": true
   },
   "outputs": [
    {
     "data": {
      "text/html": [
       "<div>\n",
       "<style scoped>\n",
       "    .dataframe tbody tr th:only-of-type {\n",
       "        vertical-align: middle;\n",
       "    }\n",
       "\n",
       "    .dataframe tbody tr th {\n",
       "        vertical-align: top;\n",
       "    }\n",
       "\n",
       "    .dataframe thead th {\n",
       "        text-align: right;\n",
       "    }\n",
       "</style>\n",
       "<table border=\"1\" class=\"dataframe\">\n",
       "  <thead>\n",
       "    <tr style=\"text-align: right;\">\n",
       "      <th></th>\n",
       "      <th>rated</th>\n",
       "      <th>created_at</th>\n",
       "      <th>last_move_at</th>\n",
       "      <th>turns</th>\n",
       "      <th>victory_status</th>\n",
       "      <th>winner</th>\n",
       "      <th>increment_code</th>\n",
       "      <th>white_id</th>\n",
       "      <th>white_rating</th>\n",
       "      <th>black_id</th>\n",
       "      <th>black_rating</th>\n",
       "      <th>moves</th>\n",
       "      <th>opening_eco</th>\n",
       "      <th>opening_name</th>\n",
       "      <th>opening_ply</th>\n",
       "    </tr>\n",
       "    <tr>\n",
       "      <th>id</th>\n",
       "      <th></th>\n",
       "      <th></th>\n",
       "      <th></th>\n",
       "      <th></th>\n",
       "      <th></th>\n",
       "      <th></th>\n",
       "      <th></th>\n",
       "      <th></th>\n",
       "      <th></th>\n",
       "      <th></th>\n",
       "      <th></th>\n",
       "      <th></th>\n",
       "      <th></th>\n",
       "      <th></th>\n",
       "      <th></th>\n",
       "    </tr>\n",
       "  </thead>\n",
       "  <tbody>\n",
       "    <tr>\n",
       "      <th>TZJHLljE</th>\n",
       "      <td>False</td>\n",
       "      <td>1.504210e+12</td>\n",
       "      <td>1.504210e+12</td>\n",
       "      <td>13</td>\n",
       "      <td>outoftime</td>\n",
       "      <td>white</td>\n",
       "      <td>15+2</td>\n",
       "      <td>bourgris</td>\n",
       "      <td>1500</td>\n",
       "      <td>a-00</td>\n",
       "      <td>1191</td>\n",
       "      <td>d4 d5 c4 c6 cxd5 e6 dxe6 fxe6 Nf3 Bb4+ Nc3 Ba5...</td>\n",
       "      <td>D10</td>\n",
       "      <td>Slav Defense: Exchange Variation</td>\n",
       "      <td>5</td>\n",
       "    </tr>\n",
       "    <tr>\n",
       "      <th>l1NXvwaE</th>\n",
       "      <td>True</td>\n",
       "      <td>1.504130e+12</td>\n",
       "      <td>1.504130e+12</td>\n",
       "      <td>16</td>\n",
       "      <td>resign</td>\n",
       "      <td>black</td>\n",
       "      <td>5+10</td>\n",
       "      <td>a-00</td>\n",
       "      <td>1322</td>\n",
       "      <td>skinnerua</td>\n",
       "      <td>1261</td>\n",
       "      <td>d4 Nc6 e4 e5 f4 f6 dxe5 fxe5 fxe5 Nxe5 Qd4 Nc6...</td>\n",
       "      <td>B00</td>\n",
       "      <td>Nimzowitsch Defense: Kennedy Variation</td>\n",
       "      <td>4</td>\n",
       "    </tr>\n",
       "    <tr>\n",
       "      <th>mIICvQHh</th>\n",
       "      <td>True</td>\n",
       "      <td>1.504130e+12</td>\n",
       "      <td>1.504130e+12</td>\n",
       "      <td>61</td>\n",
       "      <td>mate</td>\n",
       "      <td>white</td>\n",
       "      <td>5+10</td>\n",
       "      <td>ischia</td>\n",
       "      <td>1496</td>\n",
       "      <td>a-00</td>\n",
       "      <td>1500</td>\n",
       "      <td>e4 e5 d3 d6 Be3 c6 Be2 b5 Nd2 a5 a4 c5 axb5 Nc...</td>\n",
       "      <td>C20</td>\n",
       "      <td>King's Pawn Game: Leonardis Variation</td>\n",
       "      <td>3</td>\n",
       "    </tr>\n",
       "    <tr>\n",
       "      <th>kWKvrqYL</th>\n",
       "      <td>True</td>\n",
       "      <td>1.504110e+12</td>\n",
       "      <td>1.504110e+12</td>\n",
       "      <td>61</td>\n",
       "      <td>mate</td>\n",
       "      <td>white</td>\n",
       "      <td>20+0</td>\n",
       "      <td>daniamurashov</td>\n",
       "      <td>1439</td>\n",
       "      <td>adivanov2009</td>\n",
       "      <td>1454</td>\n",
       "      <td>d4 d5 Nf3 Bf5 Nc3 Nf6 Bf4 Ng4 e3 Nc6 Be2 Qd7 O...</td>\n",
       "      <td>D02</td>\n",
       "      <td>Queen's Pawn Game: Zukertort Variation</td>\n",
       "      <td>3</td>\n",
       "    </tr>\n",
       "    <tr>\n",
       "      <th>9tXo1AUZ</th>\n",
       "      <td>True</td>\n",
       "      <td>1.504030e+12</td>\n",
       "      <td>1.504030e+12</td>\n",
       "      <td>95</td>\n",
       "      <td>mate</td>\n",
       "      <td>white</td>\n",
       "      <td>30+3</td>\n",
       "      <td>nik221107</td>\n",
       "      <td>1523</td>\n",
       "      <td>adivanov2009</td>\n",
       "      <td>1469</td>\n",
       "      <td>e4 e5 Nf3 d6 d4 Nc6 d5 Nb4 a3 Na6 Nc3 Be7 b4 N...</td>\n",
       "      <td>C41</td>\n",
       "      <td>Philidor Defense</td>\n",
       "      <td>5</td>\n",
       "    </tr>\n",
       "  </tbody>\n",
       "</table>\n",
       "</div>"
      ],
      "text/plain": [
       "          rated    created_at  last_move_at  turns victory_status winner  \\\n",
       "id                                                                         \n",
       "TZJHLljE  False  1.504210e+12  1.504210e+12     13      outoftime  white   \n",
       "l1NXvwaE   True  1.504130e+12  1.504130e+12     16         resign  black   \n",
       "mIICvQHh   True  1.504130e+12  1.504130e+12     61           mate  white   \n",
       "kWKvrqYL   True  1.504110e+12  1.504110e+12     61           mate  white   \n",
       "9tXo1AUZ   True  1.504030e+12  1.504030e+12     95           mate  white   \n",
       "\n",
       "         increment_code       white_id  white_rating      black_id  \\\n",
       "id                                                                   \n",
       "TZJHLljE           15+2       bourgris          1500          a-00   \n",
       "l1NXvwaE           5+10           a-00          1322     skinnerua   \n",
       "mIICvQHh           5+10         ischia          1496          a-00   \n",
       "kWKvrqYL           20+0  daniamurashov          1439  adivanov2009   \n",
       "9tXo1AUZ           30+3      nik221107          1523  adivanov2009   \n",
       "\n",
       "          black_rating                                              moves  \\\n",
       "id                                                                          \n",
       "TZJHLljE          1191  d4 d5 c4 c6 cxd5 e6 dxe6 fxe6 Nf3 Bb4+ Nc3 Ba5...   \n",
       "l1NXvwaE          1261  d4 Nc6 e4 e5 f4 f6 dxe5 fxe5 fxe5 Nxe5 Qd4 Nc6...   \n",
       "mIICvQHh          1500  e4 e5 d3 d6 Be3 c6 Be2 b5 Nd2 a5 a4 c5 axb5 Nc...   \n",
       "kWKvrqYL          1454  d4 d5 Nf3 Bf5 Nc3 Nf6 Bf4 Ng4 e3 Nc6 Be2 Qd7 O...   \n",
       "9tXo1AUZ          1469  e4 e5 Nf3 d6 d4 Nc6 d5 Nb4 a3 Na6 Nc3 Be7 b4 N...   \n",
       "\n",
       "         opening_eco                            opening_name  opening_ply  \n",
       "id                                                                         \n",
       "TZJHLljE         D10        Slav Defense: Exchange Variation            5  \n",
       "l1NXvwaE         B00  Nimzowitsch Defense: Kennedy Variation            4  \n",
       "mIICvQHh         C20   King's Pawn Game: Leonardis Variation            3  \n",
       "kWKvrqYL         D02  Queen's Pawn Game: Zukertort Variation            3  \n",
       "9tXo1AUZ         C41                        Philidor Defense            5  "
      ]
     },
     "execution_count": 3,
     "metadata": {},
     "output_type": "execute_result"
    }
   ],
   "source": [
    "df.head()"
   ]
  },
  {
   "cell_type": "markdown",
   "metadata": {},
   "source": [
    "### HYPOTHESIS 1: The players with white piecies have an advantage as they start the game"
   ]
  },
  {
   "cell_type": "code",
   "execution_count": 4,
   "metadata": {},
   "outputs": [],
   "source": [
    "def perc_viz(data, column):\n",
    "    viz_data_1 = df.groupby(['winner']).count().iloc[:,0]\n",
    "    viz_data_1 = round(viz_data_1/sum(viz_data_1)*100, 2)\n",
    "\n",
    "    fig, ax = plt.subplots()\n",
    "    fig.set_size_inches(15,7)\n",
    "    fig.suptitle('Percentage of winners', fontsize = 25)\n",
    "    fig.set_facecolor('lightgrey')\n",
    "    ax.set_facecolor('lightgrey')\n",
    "    ax.get_yaxis().set_visible(False)\n",
    "    ax.spines['right'].set_visible(False)\n",
    "    ax.spines['left'].set_visible(False)\n",
    "    ax.spines['top'].set_visible(False)\n",
    "    ax.spines['bottom'].set_visible(False)\n",
    "    ax.tick_params(axis='x', which='major', labelsize=25)\n",
    "    plot = ax.bar(viz_data_1.index, viz_data_1, color = ['black', 'grey', 'white'])\n",
    "    text_colors = ['white', 'black', 'black']\n",
    "    i = 0\n",
    "    for rect in plot:\n",
    "        ax.text(rect.get_x() + rect.get_width()/2.7, rect.get_height()/2.7, str(rect.get_height()) + \"%\",\n",
    "                    fontsize=25, color = text_colors[i])\n",
    "        i += 1;"
   ]
  },
  {
   "cell_type": "code",
   "execution_count": 5,
   "metadata": {},
   "outputs": [
    {
     "data": {
      "image/png": "[encoded data removed]",
      "text/plain": [
       "<Figure size 1080x504 with 1 Axes>"
      ]
     },
     "metadata": {},
     "output_type": "display_data"
    }
   ],
   "source": [
    "perc_viz(df, 'winner')"
   ]
  },
  {
   "cell_type": "markdown",
   "metadata": {},
   "source": [
    "#### As we can see the difference is not quite significant. So we can't claim that players with white piecies have advantage. But if you can play with white pieces :)"
   ]
  },
  {
   "cell_type": "markdown",
   "metadata": {},
   "source": [
    "### HYPOTHESIS 2: The length of the game affects the result."
   ]
  },
  {
   "cell_type": "code",
   "execution_count": 6,
   "metadata": {},
   "outputs": [
    {
     "data": {
      "image/png": "[encoded data removed]",
      "text/plain": [
       "<Figure size 423.375x360 with 1 Axes>"
      ]
     },
     "metadata": {
      "needs_background": "light"
     },
     "output_type": "display_data"
    }
   ],
   "source": [
    "sns.displot(df, x=\"turns\", hue=\"winner\");"
   ]
  },
  {
   "cell_type": "markdown",
   "metadata": {},
   "source": [
    "#### As we can see, according to our dataset, if the moves are more than approximately 80, most likely the result of the game will be draw."
   ]
  },
  {
   "cell_type": "markdown",
   "metadata": {},
   "source": [
    "### HYPOTHESIS 3: Which openings are the best"
   ]
  },
  {
   "cell_type": "code",
   "execution_count": 7,
   "metadata": {
    "scrolled": false
   },
   "outputs": [
    {
     "data": {
      "text/plain": [
       "Index(['Van't Kruijs Opening', 'Sicilian Defense',\n",
       "       'Sicilian Defense: Bowdler Attack', 'French Defense: Knight Variation',\n",
       "       'Scotch Game', 'Scandinavian Defense: Mieses-Kotroc Variation',\n",
       "       'Queen's Pawn Game: Mason Attack',\n",
       "       'Queen's Pawn Game: Chigorin Variation', 'Scandinavian Defense',\n",
       "       'Horwitz Defense', 'Caro-Kann Defense', 'Philidor Defense #3',\n",
       "       'Philidor Defense #2', 'Indian Game',\n",
       "       'Italian Game: Anti-Fried Liver Defense',\n",
       "       'Four Knights Game: Italian Variation', 'Modern Defense',\n",
       "       'Owen Defense', 'King's Pawn Game: Wayward Queen Attack',\n",
       "       'Sicilian Defense: Old Sicilian',\n",
       "       'King's Pawn Game: Leonardis Variation', 'Queen's Pawn Game',\n",
       "       'Philidor Defense', 'Ruy Lopez: Steinitz Defense', 'Hungarian Opening',\n",
       "       'Queen's Pawn', 'French Defense: Normal Variation', 'Bishop's Opening',\n",
       "       'Queen's Gambit Refused: Marshall Defense', 'Queen's Pawn Game #2',\n",
       "       'Queen's Gambit Declined', 'Queen's Pawn Game: Zukertort Variation',\n",
       "       'Queen's Gambit Accepted: Old Variation',\n",
       "       'French Defense: Exchange Variation', 'Italian Game', 'Giuoco Piano',\n",
       "       'Sicilian Defense: Smith-Morra Gambit #2', 'Pirc Defense #4',\n",
       "       'French Defense #2', 'King's Pawn Game: McConnell Defense'],\n",
       "      dtype='object')"
      ]
     },
     "execution_count": 7,
     "metadata": {},
     "output_type": "execute_result"
    }
   ],
   "source": [
    "# Picking only the openings that are used more than 99 times.\n",
    "openings = pd.value_counts(df['opening_name'])\n",
    "mask = openings >= 100\n",
    "openings = openings.index[mask]\n",
    "openings"
   ]
  },
  {
   "cell_type": "markdown",
   "metadata": {},
   "source": [
    "If there is the word 'defense' in the opening name, it's a tactic that the player who uses black pieces choosed.\n",
    "So we will consider black openings, if there is the word 'defense' in the opening name and white openings otherwise."
   ]
  },
  {
   "cell_type": "code",
   "execution_count": 8,
   "metadata": {},
   "outputs": [],
   "source": [
    "black_openings = []\n",
    "white_openings = []\n",
    "for op in openings:\n",
    "    if \"defense\" in op.lower():\n",
    "        black_openings.append(op)\n",
    "    else:\n",
    "        white_openings.append(op)"
   ]
  },
  {
   "cell_type": "code",
   "execution_count": 9,
   "metadata": {},
   "outputs": [
    {
     "data": {
      "text/plain": [
       "['Sicilian Defense',\n",
       " 'Sicilian Defense: Bowdler Attack',\n",
       " 'French Defense: Knight Variation',\n",
       " 'Scandinavian Defense: Mieses-Kotroc Variation',\n",
       " 'Scandinavian Defense',\n",
       " 'Horwitz Defense',\n",
       " 'Caro-Kann Defense',\n",
       " 'Philidor Defense #3',\n",
       " 'Philidor Defense #2',\n",
       " 'Italian Game: Anti-Fried Liver Defense',\n",
       " 'Modern Defense',\n",
       " 'Owen Defense',\n",
       " 'Sicilian Defense: Old Sicilian',\n",
       " 'Philidor Defense',\n",
       " 'Ruy Lopez: Steinitz Defense',\n",
       " 'French Defense: Normal Variation',\n",
       " \"Queen's Gambit Refused: Marshall Defense\",\n",
       " 'French Defense: Exchange Variation',\n",
       " 'Sicilian Defense: Smith-Morra Gambit #2',\n",
       " 'Pirc Defense #4',\n",
       " 'French Defense #2',\n",
       " \"King's Pawn Game: McConnell Defense\"]"
      ]
     },
     "execution_count": 9,
     "metadata": {},
     "output_type": "execute_result"
    }
   ],
   "source": [
    "black_openings"
   ]
  },
  {
   "cell_type": "code",
   "execution_count": 10,
   "metadata": {},
   "outputs": [],
   "source": [
    "# Df for black openings.\n",
    "black_openings_df = pd.DataFrame()\n",
    "for op in black_openings:\n",
    "    black_openings_df = pd.concat([black_openings_df, df[(df['opening_name'] == op) & (df['winner'] == 'black')]])"
   ]
  },
  {
   "cell_type": "code",
   "execution_count": 11,
   "metadata": {},
   "outputs": [],
   "source": [
    "# Df for white openings.\n",
    "white_openings_df = pd.DataFrame()\n",
    "for op in white_openings:\n",
    "    white_openings_df = pd.concat([white_openings_df, df[(df['opening_name'] == op) & (df['winner'] == 'white')]])"
   ]
  },
  {
   "cell_type": "code",
   "execution_count": 12,
   "metadata": {},
   "outputs": [
    {
     "data": {
      "image/png": "[encoded data removed]",
      "text/plain": [
       "<Figure size 360x360 with 1 Axes>"
      ]
     },
     "metadata": {
      "needs_background": "light"
     },
     "output_type": "display_data"
    }
   ],
   "source": [
    "sns.displot(white_openings_df, x=\"opening_name\");"
   ]
  },
  {
   "cell_type": "code",
   "execution_count": 13,
   "metadata": {},
   "outputs": [
    {
     "data": {
      "image/png": "[encoded data removed]",
      "text/plain": [
       "<Figure size 360x360 with 1 Axes>"
      ]
     },
     "metadata": {
      "needs_background": "light"
     },
     "output_type": "display_data"
    }
   ],
   "source": [
    "sns.displot(black_openings_df, x=\"opening_name\");"
   ]
  },
  {
   "cell_type": "markdown",
   "metadata": {},
   "source": [
    "### In my opinion there is no point to use visualization skills to solve this task (see the horrible plots above)."
   ]
  },
  {
   "cell_type": "markdown",
   "metadata": {},
   "source": [
    "###### Best opening for black"
   ]
  },
  {
   "cell_type": "code",
   "execution_count": 14,
   "metadata": {},
   "outputs": [
    {
     "data": {
      "text/plain": [
       "'Sicilian Defense'"
      ]
     },
     "execution_count": 14,
     "metadata": {},
     "output_type": "execute_result"
    }
   ],
   "source": [
    "black_openings_df.value_counts('opening_name').index[0]"
   ]
  },
  {
   "cell_type": "markdown",
   "metadata": {},
   "source": [
    "###### Best opening for white"
   ]
  },
  {
   "cell_type": "code",
   "execution_count": 15,
   "metadata": {},
   "outputs": [
    {
     "data": {
      "text/plain": [
       "'Scotch Game'"
      ]
     },
     "execution_count": 15,
     "metadata": {},
     "output_type": "execute_result"
    }
   ],
   "source": [
    "white_openings_df.value_counts('opening_name').index[0]"
   ]
  },
  {
   "cell_type": "markdown",
   "metadata": {},
   "source": [
    "### HYPOTHESIS 4: If players' ratings are close to each other, the game will last longer."
   ]
  },
  {
   "cell_type": "code",
   "execution_count": 16,
   "metadata": {},
   "outputs": [],
   "source": [
    "# Filtering games where players' rating difference is less than 100.\n",
    "equal_players_df = df[np.abs(df['white_rating']-df['black_rating']) < 100]\n",
    "non_equal_players_df = df[np.abs(df['white_rating']-df['black_rating']) >= 100]"
   ]
  },
  {
   "cell_type": "code",
   "execution_count": 17,
   "metadata": {},
   "outputs": [
    {
     "data": {
      "image/png": "[encoded data removed]",
      "text/plain": [
       "<Figure size 1224x360 with 2 Axes>"
      ]
     },
     "metadata": {
      "needs_background": "light"
     },
     "output_type": "display_data"
    }
   ],
   "source": [
    "fig, ax = plt.subplots(1,2)\n",
    "fig.set_size_inches(17,5)\n",
    "sns.histplot(equal_players_df, x = 'turns', ax = ax[0])\n",
    "sns.histplot(non_equal_players_df, x = 'turns', ax = ax[1]);"
   ]
  },
  {
   "cell_type": "markdown",
   "metadata": {},
   "source": [
    "##### As we can see there is no significance differance."
   ]
  },
  {
   "cell_type": "markdown",
   "metadata": {},
   "source": [
    "I don't like chess that much, so i couldn't generate more good tasks to solve."
   ]
  }
 ],
 "metadata": {
  "kernelspec": {
   "display_name": "Python 3",
   "language": "python",
   "name": "python3"
  },
  "language_info": {
   "codemirror_mode": {
    "name": "ipython",
    "version": 3
   },
   "file_extension": ".py",
   "mimetype": "text/x-python",
   "name": "python",
   "nbconvert_exporter": "python",
   "pygments_lexer": "ipython3",
   "version": "3.8.5"
  }
 },
 "nbformat": 4,
 "nbformat_minor": 4
}
