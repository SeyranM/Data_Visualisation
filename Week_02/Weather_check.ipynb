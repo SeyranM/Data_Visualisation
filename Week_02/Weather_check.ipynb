{
 "cells": [
  {
   "cell_type": "code",
   "execution_count": 1,
   "metadata": {},
   "outputs": [],
   "source": [
    "import pandas as pd\n",
    "import matplotlib.pyplot as plt"
   ]
  },
  {
   "cell_type": "code",
   "execution_count": 2,
   "metadata": {},
   "outputs": [],
   "source": [
    "df = pd.read_csv(\"weather-check.csv\")"
   ]
  },
  {
   "cell_type": "code",
   "execution_count": 4,
   "metadata": {},
   "outputs": [
    {
     "data": {
      "text/html": [
       "<div>\n",
       "<style scoped>\n",
       "    .dataframe tbody tr th:only-of-type {\n",
       "        vertical-align: middle;\n",
       "    }\n",
       "\n",
       "    .dataframe tbody tr th {\n",
       "        vertical-align: top;\n",
       "    }\n",
       "\n",
       "    .dataframe thead th {\n",
       "        text-align: right;\n",
       "    }\n",
       "</style>\n",
       "<table border=\"1\" class=\"dataframe\">\n",
       "  <thead>\n",
       "    <tr style=\"text-align: right;\">\n",
       "      <th></th>\n",
       "      <th>RespondentID</th>\n",
       "      <th>Do you typically check a daily weather report?</th>\n",
       "      <th>How do you typically check the weather?</th>\n",
       "      <th>A specific website or app (please provide the answer)</th>\n",
       "      <th>If you had a smartwatch (like the soon to be released Apple Watch), how likely or unlikely would you be to check the weather on that device?</th>\n",
       "      <th>Age</th>\n",
       "      <th>What is your gender?</th>\n",
       "      <th>How much total combined money did all members of your HOUSEHOLD earn last year?</th>\n",
       "      <th>US Region</th>\n",
       "    </tr>\n",
       "  </thead>\n",
       "  <tbody>\n",
       "    <tr>\n",
       "      <th>0</th>\n",
       "      <td>3887201482</td>\n",
       "      <td>Yes</td>\n",
       "      <td>The default weather app on your phone</td>\n",
       "      <td>-</td>\n",
       "      <td>Very likely</td>\n",
       "      <td>30 - 44</td>\n",
       "      <td>Male</td>\n",
       "      <td>$50,000 to $74,999</td>\n",
       "      <td>South Atlantic</td>\n",
       "    </tr>\n",
       "    <tr>\n",
       "      <th>1</th>\n",
       "      <td>3887159451</td>\n",
       "      <td>Yes</td>\n",
       "      <td>The default weather app on your phone</td>\n",
       "      <td>-</td>\n",
       "      <td>Very likely</td>\n",
       "      <td>18 - 29</td>\n",
       "      <td>Male</td>\n",
       "      <td>Prefer not to answer</td>\n",
       "      <td>-</td>\n",
       "    </tr>\n",
       "    <tr>\n",
       "      <th>2</th>\n",
       "      <td>3887152228</td>\n",
       "      <td>Yes</td>\n",
       "      <td>The default weather app on your phone</td>\n",
       "      <td>-</td>\n",
       "      <td>Very likely</td>\n",
       "      <td>30 - 44</td>\n",
       "      <td>Male</td>\n",
       "      <td>$100,000 to $124,999</td>\n",
       "      <td>Middle Atlantic</td>\n",
       "    </tr>\n",
       "    <tr>\n",
       "      <th>3</th>\n",
       "      <td>3887145426</td>\n",
       "      <td>Yes</td>\n",
       "      <td>The default weather app on your phone</td>\n",
       "      <td>-</td>\n",
       "      <td>Somewhat likely</td>\n",
       "      <td>30 - 44</td>\n",
       "      <td>Male</td>\n",
       "      <td>Prefer not to answer</td>\n",
       "      <td>-</td>\n",
       "    </tr>\n",
       "    <tr>\n",
       "      <th>4</th>\n",
       "      <td>3887021873</td>\n",
       "      <td>Yes</td>\n",
       "      <td>A specific website or app (please provide the ...</td>\n",
       "      <td>Iphone app</td>\n",
       "      <td>Very likely</td>\n",
       "      <td>30 - 44</td>\n",
       "      <td>Male</td>\n",
       "      <td>$150,000 to $174,999</td>\n",
       "      <td>Middle Atlantic</td>\n",
       "    </tr>\n",
       "  </tbody>\n",
       "</table>\n",
       "</div>"
      ],
      "text/plain": [
       "   RespondentID Do you typically check a daily weather report?  \\\n",
       "0    3887201482                                            Yes   \n",
       "1    3887159451                                            Yes   \n",
       "2    3887152228                                            Yes   \n",
       "3    3887145426                                            Yes   \n",
       "4    3887021873                                            Yes   \n",
       "\n",
       "             How do you typically check the weather?  \\\n",
       "0              The default weather app on your phone   \n",
       "1              The default weather app on your phone   \n",
       "2              The default weather app on your phone   \n",
       "3              The default weather app on your phone   \n",
       "4  A specific website or app (please provide the ...   \n",
       "\n",
       "  A specific website or app (please provide the answer)  \\\n",
       "0                                                  -      \n",
       "1                                                  -      \n",
       "2                                                  -      \n",
       "3                                                  -      \n",
       "4                                         Iphone app      \n",
       "\n",
       "  If you had a smartwatch (like the soon to be released Apple Watch), how likely or unlikely would you be to check the weather on that device?  \\\n",
       "0                                        Very likely                                                                                             \n",
       "1                                        Very likely                                                                                             \n",
       "2                                        Very likely                                                                                             \n",
       "3                                    Somewhat likely                                                                                             \n",
       "4                                        Very likely                                                                                             \n",
       "\n",
       "       Age What is your gender?  \\\n",
       "0  30 - 44                 Male   \n",
       "1  18 - 29                 Male   \n",
       "2  30 - 44                 Male   \n",
       "3  30 - 44                 Male   \n",
       "4  30 - 44                 Male   \n",
       "\n",
       "  How much total combined money did all members of your HOUSEHOLD earn last year?  \\\n",
       "0                                 $50,000 to $74,999                                \n",
       "1                               Prefer not to answer                                \n",
       "2                               $100,000 to $124,999                                \n",
       "3                               Prefer not to answer                                \n",
       "4                               $150,000 to $174,999                                \n",
       "\n",
       "         US Region  \n",
       "0   South Atlantic  \n",
       "1                -  \n",
       "2  Middle Atlantic  \n",
       "3                -  \n",
       "4  Middle Atlantic  "
      ]
     },
     "execution_count": 4,
     "metadata": {},
     "output_type": "execute_result"
    }
   ],
   "source": [
    "df.head()"
   ]
  },
  {
   "cell_type": "code",
   "execution_count": 30,
   "metadata": {},
   "outputs": [
    {
     "data": {
      "image/png": "[encoded data removed]",
      "text/plain": [
       "<Figure size 432x288 with 1 Axes>"
      ]
     },
     "metadata": {
      "needs_background": "light"
     },
     "output_type": "display_data"
    }
   ],
   "source": [
    "# Compairing how many people checks the weather.\n",
    "\n",
    "plt.hist(df['Do you typically check a daily weather report?']);"
   ]
  },
  {
   "cell_type": "code",
   "execution_count": 45,
   "metadata": {},
   "outputs": [
    {
     "data": {
      "image/png": "[encoded data removed]",
      "text/plain": [
       "<Figure size 432x288 with 1 Axes>"
      ]
     },
     "metadata": {
      "needs_background": "light"
     },
     "output_type": "display_data"
    }
   ],
   "source": [
    "# let's check what age groups are mostly involved in tghis dataset.\n",
    "\n",
    "plt.hist(sorted(df[\"Age\"]));"
   ]
  },
  {
   "cell_type": "code",
   "execution_count": 55,
   "metadata": {
    "scrolled": false
   },
   "outputs": [
    {
     "data": {
      "image/png": "[encoded data removed]",
      "text/plain": [
       "<Figure size 1296x360 with 1 Axes>"
      ]
     },
     "metadata": {
      "needs_background": "light"
     },
     "output_type": "display_data"
    }
   ],
   "source": [
    "# From what regions they are.\n",
    "\n",
    "plt.figure(figsize=(18, 5))\n",
    "plt.hist(df[\"US Region\"]);"
   ]
  }
 ],
 "metadata": {
  "kernelspec": {
   "display_name": "Python 3",
   "language": "python",
   "name": "python3"
  },
  "language_info": {
   "codemirror_mode": {
    "name": "ipython",
    "version": 3
   },
   "file_extension": ".py",
   "mimetype": "text/x-python",
   "name": "python",
   "nbconvert_exporter": "python",
   "pygments_lexer": "ipython3",
   "version": "3.8.5"
  }
 },
 "nbformat": 4,
 "nbformat_minor": 4
}
